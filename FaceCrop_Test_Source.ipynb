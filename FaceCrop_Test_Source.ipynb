{
 "cells": [
  {
   "cell_type": "code",
   "execution_count": null,
   "metadata": {
    "collapsed": true
   },
   "outputs": [],
   "source": [
    "##source 1: https://photo.stackexchange.com/questions/60411/how-can-i-batch-crop-based-on-face-location\n",
    "##more advanced source to try: https://gist.github.com/tilfin/98bbba47fdc4ac10c4069cce5fabd834"
   ]
  },
  {
   "cell_type": "code",
   "execution_count": 14,
   "metadata": {
    "collapsed": true
   },
   "outputs": [],
   "source": [
    "import cv2\n",
    "import sys\n",
    "import glob"
   ]
  },
  {
   "cell_type": "code",
   "execution_count": 15,
   "metadata": {},
   "outputs": [
    {
     "name": "stdout",
     "output_type": "stream",
     "text": [
      "<CascadeClassifier 000001A2699D6330>\n"
     ]
    }
   ],
   "source": [
    "#create a CascadeClassifier Object\n",
    "cascadePath = \"opencv-master/data/haarcascades/haarcascade_frontalface_default.xml\"\n",
    "face_cascade = cv2.CascadeClassifier(cascadePath)\n",
    "#checking to see if classifier has been loaded properly\n",
    "print(face_cascade)"
   ]
  },
  {
   "cell_type": "code",
   "execution_count": null,
   "metadata": {},
   "outputs": [],
   "source": [
    "files = glob.glob(\"*jpg\")\n",
    "\n",
    "for file in files:\n",
    "    \n",
    "    image=cv2.imread(file)\n",
    "    #reading the image as gray scale\n",
    "    gray=cv2.cvtColor(image, cv2.COLOR_BGR2GRAY)\n",
    "    # Detect faces in the image\n",
    "    #search for the face co-ordinates in the image\n",
    "    #detect multiscale is the method to search for the face rectangle co-ordinates \n",
    "    #scale factor =1.1 decreases the shape value by 5% until the face is found. The smaller this value, the more accuracy\n",
    "    #we may want to hyper parameter tune with scaleFactor and neighbors\n",
    "    faces = face_cascade.detectMultiScale(\n",
    "        gray,\n",
    "        scaleFactor=1.1,\n",
    "        minNeighbors=5,\n",
    "        minSize=(30, 30)\n",
    "    )\n",
    "    #print(\"Found {0} faces!\".format(len(faces)))\n",
    "    \n",
    "    #Crop padding\n",
    "    #may not be needed\n",
    "    left = 10\n",
    "    right = 10\n",
    "    top = 10\n",
    "    bottom = 10\n",
    "    \n",
    "    #draw a rectange around the faces\n",
    "    for (x, y, w, h) in faces:\n",
    "        print(x, y, w, h)\n",
    "        #method to create the face rectangle\n",
    "        #cv2.rectangle(image, (x, y), (x+w, y+h), (0, 255, 0), 23)\n",
    "    \n",
    "    #crop the image\n",
    "    image  = image[y-top:y+h+bottom, x-left:x+w+right]\n",
    "    \n",
    "    #only use for sanity check\n",
    "    \n",
    "    #cv2.imshow('image',image)\n",
    "    #cv2.waitKey(0)\n",
    "    #cv2.destroyAllWindows()\n",
    "    \n",
    "    #rename cropped file\n",
    "    #print(\"cropped_{1}{0}\".format(str(file),str(x)))\n",
    "    \n",
    "    #save as a new file, only uncomment when you want to save the file\n",
    "    #cv2.imwrite(\"cropped_{1}_{0}\".format(str(file),str(x)), image)\n"
   ]
  }
 ],
 "metadata": {
  "kernelspec": {
   "display_name": "Python 3",
   "language": "python",
   "name": "python3"
  },
  "language_info": {
   "codemirror_mode": {
    "name": "ipython",
    "version": 3
   },
   "file_extension": ".py",
   "mimetype": "text/x-python",
   "name": "python",
   "nbconvert_exporter": "python",
   "pygments_lexer": "ipython3",
   "version": "3.6.1"
  }
 },
 "nbformat": 4,
 "nbformat_minor": 2
}
